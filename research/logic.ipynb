{
 "cells": [
  {
   "cell_type": "code",
   "execution_count": 1,
   "metadata": {},
   "outputs": [
    {
     "name": "stderr",
     "output_type": "stream",
     "text": [
      "c:\\Users\\shahn\\anaconda3\\envs\\major_project\\lib\\site-packages\\tqdm\\auto.py:21: TqdmWarning: IProgress not found. Please update jupyter and ipywidgets. See https://ipywidgets.readthedocs.io/en/stable/user_install.html\n",
      "  from .autonotebook import tqdm as notebook_tqdm\n"
     ]
    }
   ],
   "source": [
    "from langchain.vectorstores import Chroma\n",
    "from langchain.embeddings import HuggingFaceEmbeddings\n",
    "\n",
    "\n",
    "model_name = \"sentence-transformers/all-MiniLM-L6-v2\"\n",
    "model_kwargs = {'device': 'cuda'}\n",
    "encode_kwargs = {'normalize_embeddings': True}\n",
    "embedding_model = HuggingFaceEmbeddings(\n",
    "    model_name=model_name,\n",
    "    model_kwargs=model_kwargs,\n",
    "    encode_kwargs=encode_kwargs\n",
    ")\n"
   ]
  },
  {
   "cell_type": "code",
   "execution_count": 2,
   "metadata": {},
   "outputs": [
    {
     "name": "stdout",
     "output_type": "stream",
     "text": [
      "True\n",
      "0\n",
      "NVIDIA GeForce MX450\n"
     ]
    }
   ],
   "source": [
    "import torch\n",
    "print(torch.cuda.is_available())\n",
    "print(torch.cuda.current_device())\n",
    "print(torch.cuda.get_device_name(0))"
   ]
  },
  {
   "cell_type": "code",
   "execution_count": 3,
   "metadata": {},
   "outputs": [],
   "source": [
    "import pinecone\n",
    "from langchain.vectorstores import Pinecone\n"
   ]
  },
  {
   "cell_type": "code",
   "execution_count": 4,
   "metadata": {},
   "outputs": [],
   "source": []
  },
  {
   "cell_type": "code",
   "execution_count": 5,
   "metadata": {},
   "outputs": [],
   "source": [
    "db = Pinecone.from_existing_index(\"medical-data\", embedding_model)\n",
    "ans=db.similarity_search(\"What are the common symptoms of diabetes?\",k=4)"
   ]
  },
  {
   "cell_type": "code",
   "execution_count": 6,
   "metadata": {},
   "outputs": [
    {
     "name": "stdout",
     "output_type": "stream",
     "text": [
      "• Type I diabetes mellitus. Characterized by fatigue and\n",
      "an abnormally high level of glucose in the blood(hyperglycemia).\n",
      "• Amyotrophic lateral schlerosis. First signs are stum-\n",
      "bling and difficulty climbing stairs. Later, musclecramps and twitching may be observed as well asweakness in the hands making fastening buttons orturning a key difficult. Speech may become slowed orslurred. There may also be difficluty swallowing. Asrespiratory muscles atrophy, there is increased dangerof aspiration or lung infection.\n",
      "• Guillain-Barre syndrome. Muscle weakness in the legs\n",
      "occurs first, then the arms and face. Paresthesias (aprickly, tingling sensation) is also felt. This disorderaffects both sides of the body and may involve paralysisand the muscles that control breathing.\n"
     ]
    }
   ],
   "source": [
    "print(ans[0].page_content)"
   ]
  },
  {
   "cell_type": "code",
   "execution_count": null,
   "metadata": {},
   "outputs": [],
   "source": []
  },
  {
   "cell_type": "code",
   "execution_count": 7,
   "metadata": {},
   "outputs": [],
   "source": [
    "from langchain.memory import ConversationBufferMemory\n",
    "from langchain.chains import ConversationalRetrievalChain\n",
    "from langchain.llms import HuggingFaceHub"
   ]
  },
  {
   "cell_type": "code",
   "execution_count": 8,
   "metadata": {},
   "outputs": [],
   "source": [
    "template = \"\"\"\n",
    "You help everyone by answering questions, and improve your answers from previous answers in History.\n",
    "Don't try to make up an answer, if you don't know, just say that you don't know.\n",
    "Answer in the same language the question was asked.\n",
    "Answer in a way that is easy to understand.\n",
    "Do not say \"Based on the information you provided, ...\" or \"I think the answer is...\".\n",
    "Just answer the question directly in detail.\n",
    "\n",
    "History: {chat_history}\n",
    "\n",
    "Context: {context}\n",
    "\n",
    "Question: {query}\n",
    "Answer: \n",
    "\"\"\""
   ]
  },
  {
   "cell_type": "code",
   "execution_count": null,
   "metadata": {},
   "outputs": [],
   "source": []
  },
  {
   "cell_type": "code",
   "execution_count": null,
   "metadata": {},
   "outputs": [],
   "source": []
  },
  {
   "cell_type": "code",
   "execution_count": 9,
   "metadata": {},
   "outputs": [
    {
     "name": "stderr",
     "output_type": "stream",
     "text": [
      "Fetching 1 files: 100%|██████████| 1/1 [00:00<00:00, 1002.94it/s]\n",
      "Fetching 1 files: 100%|██████████| 1/1 [00:00<?, ?it/s]\n"
     ]
    }
   ],
   "source": [
    "from langchain.llms import CTransformers\n",
    "\n",
    "config = {'max_new_tokens': 512,'context_length': 8000}\n",
    "\n",
    "llm = CTransformers( \n",
    "                    model='TheBloke/Llama-2-7B-Chat-GGUF',\n",
    "                    model_file=\"llama-2-7b-chat.Q4_K_S.gguf\",\n",
    "                    config=config,\n",
    "                    model_type='llama',\n",
    "                    device = 'cuda',\n",
    "                    temprature=0.8 )\n"
   ]
  },
  {
   "cell_type": "code",
   "execution_count": 10,
   "metadata": {},
   "outputs": [],
   "source": [
    "from accelerate import Accelerator\n",
    "accelerator = Accelerator()\n",
    "llm, config = accelerator.prepare(llm, config)"
   ]
  },
  {
   "cell_type": "code",
   "execution_count": null,
   "metadata": {},
   "outputs": [],
   "source": []
  },
  {
   "cell_type": "code",
   "execution_count": null,
   "metadata": {},
   "outputs": [],
   "source": []
  },
  {
   "cell_type": "code",
   "execution_count": 15,
   "metadata": {},
   "outputs": [
    {
     "ename": "NameError",
     "evalue": "name 'PROMPT' is not defined",
     "output_type": "error",
     "traceback": [
      "\u001b[1;31m---------------------------------------------------------------------------\u001b[0m",
      "\u001b[1;31mNameError\u001b[0m                                 Traceback (most recent call last)",
      "Cell \u001b[1;32mIn[15], line 10\u001b[0m\n\u001b[0;32m      1\u001b[0m memory\u001b[38;5;241m=\u001b[39mConversationBufferMemory(memory_key\u001b[38;5;241m=\u001b[39m\u001b[38;5;124m'\u001b[39m\u001b[38;5;124mchat_history\u001b[39m\u001b[38;5;124m'\u001b[39m,return_messages\u001b[38;5;241m=\u001b[39m\u001b[38;5;28;01mTrue\u001b[39;00m)\n\u001b[0;32m      2\u001b[0m retriever \u001b[38;5;241m=\u001b[39m db\u001b[38;5;241m.\u001b[39mas_retriever(search_kwargs\u001b[38;5;241m=\u001b[39m{\u001b[38;5;124m\"\u001b[39m\u001b[38;5;124mk\u001b[39m\u001b[38;5;124m\"\u001b[39m:\u001b[38;5;241m3\u001b[39m})\n\u001b[0;32m      3\u001b[0m conversation\u001b[38;5;241m=\u001b[39mConversationalRetrievalChain\u001b[38;5;241m.\u001b[39mfrom_llm(\n\u001b[0;32m      4\u001b[0m         llm\u001b[38;5;241m=\u001b[39mllm,\n\u001b[0;32m      5\u001b[0m         retriever\u001b[38;5;241m=\u001b[39mretriever,\n\u001b[0;32m      6\u001b[0m         memory\u001b[38;5;241m=\u001b[39mmemory,\n\u001b[0;32m      7\u001b[0m         chain_type\u001b[38;5;241m=\u001b[39m\u001b[38;5;124m\"\u001b[39m\u001b[38;5;124mstuff\u001b[39m\u001b[38;5;124m\"\u001b[39m,\n\u001b[0;32m      8\u001b[0m         return_source_documents\u001b[38;5;241m=\u001b[39m\u001b[38;5;28;01mTrue\u001b[39;00m,\n\u001b[0;32m      9\u001b[0m         get_chat_history\u001b[38;5;241m=\u001b[39m\u001b[38;5;28;01mlambda\u001b[39;00m h : h,\n\u001b[1;32m---> 10\u001b[0m         combine_docs_chain_kwargs\u001b[38;5;241m=\u001b[39m{\u001b[38;5;124m'\u001b[39m\u001b[38;5;124mprompt\u001b[39m\u001b[38;5;124m'\u001b[39m: \u001b[43mPROMPT\u001b[49m}\n\u001b[0;32m     11\u001b[0m     )\n",
      "\u001b[1;31mNameError\u001b[0m: name 'PROMPT' is not defined"
     ]
    }
   ],
   "source": [
    "\n",
    "memory=ConversationBufferMemory(memory_key='chat_history',return_messages=True)\n",
    "retriever = db.as_retriever(search_kwargs={\"k\":3})\n",
    "conversation=ConversationalRetrievalChain.from_llm(\n",
    "        llm=llm,\n",
    "        retriever=retriever,\n",
    "        memory=memory,\n",
    "        chain_type=\"stuff\",\n",
    "        return_source_documents=True,\n",
    "        get_chat_history=lambda h : h,\n",
    "        combine_docs_chain_kwargs={'prompt': PROMPT}\n",
    "    )"
   ]
  },
  {
   "cell_type": "code",
   "execution_count": 16,
   "metadata": {},
   "outputs": [
    {
     "data": {
      "text/plain": [
       "{'chat_history': []}"
      ]
     },
     "execution_count": 16,
     "metadata": {},
     "output_type": "execute_result"
    }
   ],
   "source": [
    "chat_history=memory.load_memory_variables({})\n",
    "chat_history"
   ]
  },
  {
   "cell_type": "code",
   "execution_count": 17,
   "metadata": {},
   "outputs": [],
   "source": [
    "query=\"What are the typical symptoms of a skin infection?\""
   ]
  },
  {
   "cell_type": "code",
   "execution_count": 18,
   "metadata": {},
   "outputs": [
    {
     "data": {
      "text/plain": [
       "'Document: contracted, but the symptoms usually appear within oneweek of exposure.\\nCutaneous anthrax\\nIn humans, anthrax usually occurs when the bacteria\\nenter a cut or abrasion, causing a skin (cutaneous) infec-tion at the site. Cutaneous anthrax, as this infection iscalled, is the mildest form of the disease. At first, thebacteria cause an itchy, raised area like an insect bite.Within one to two days, inflammation occurs around theraised area, and a blister forms around an area of dyingtissue that becomes black in the center. Other symptomsmay include shivering and chills. In most cases the bacte-ria remain within the sore. If, however, they spread to thenearest lymph node (or, in rare cases, escape into thebloodstream), the bacteria can cause a form of blood poi-\\nsoning that rapidly proves fatal. \\n \\nDocument: heart, spinal cord, and lungs, and in the 1990s has beencalled the “flesh-eating bacterium.” Staphylococci bacte-ria may also cause lymphangitis.\\nAlthough anyone can develop lymphangitis, some\\npeople are more at risk. People who have had radical mas-\\ntectomy (removal of a breast and nearby lymph nodes), a\\nleg vein removed for coronary bypass surgery, or recurrentlymphangitis caused by tinea pedis (a fungal infection onthe foot) are at an increased risk for lymphangitis.\\nThe characteristic symptoms of acute lymphangitis\\nare the wide, red streaks which travel from the site ofinfection to the armpit or groin. The affected areas are red,swollen, and painful. Blistering of the affected skin mayoccur. The bacterial infection causes a fever of 100-104°F \\n \\n'"
      ]
     },
     "execution_count": 18,
     "metadata": {},
     "output_type": "execute_result"
    }
   ],
   "source": [
    "db = Pinecone.from_existing_index(\"medical-data\", embedding_model)\n",
    "ans=db.similarity_search(query,k=2)\n",
    "context=\"\"\n",
    "for i in ans:\n",
    "    context+=f\"Document: {i.page_content} \\n \\n\"\n",
    "context"
   ]
  },
  {
   "cell_type": "code",
   "execution_count": 19,
   "metadata": {},
   "outputs": [
    {
     "ename": "NameError",
     "evalue": "name 'convo' is not defined",
     "output_type": "error",
     "traceback": [
      "\u001b[1;31m---------------------------------------------------------------------------\u001b[0m",
      "\u001b[1;31mNameError\u001b[0m                                 Traceback (most recent call last)",
      "Cell \u001b[1;32mIn[19], line 1\u001b[0m\n\u001b[1;32m----> 1\u001b[0m response\u001b[38;5;241m=\u001b[39m\u001b[43mconvo\u001b[49m({\u001b[38;5;124m\"\u001b[39m\u001b[38;5;124mquestion\u001b[39m\u001b[38;5;124m\"\u001b[39m:query,\u001b[38;5;124m'\u001b[39m\u001b[38;5;124mcontext\u001b[39m\u001b[38;5;124m'\u001b[39m: context,\u001b[38;5;124m'\u001b[39m\u001b[38;5;124mchat_history\u001b[39m\u001b[38;5;124m'\u001b[39m:chat_history})\n\u001b[0;32m      2\u001b[0m \u001b[38;5;28mprint\u001b[39m(response[\u001b[38;5;124m'\u001b[39m\u001b[38;5;124manswer\u001b[39m\u001b[38;5;124m'\u001b[39m])\n",
      "\u001b[1;31mNameError\u001b[0m: name 'convo' is not defined"
     ]
    }
   ],
   "source": [
    "\n",
    "response=convo({\"question\":query,'context': context,'chat_history':chat_history})\n",
    "print(response['answer'])"
   ]
  },
  {
   "cell_type": "code",
   "execution_count": null,
   "metadata": {},
   "outputs": [],
   "source": [
    "# 2-nd approach"
   ]
  },
  {
   "cell_type": "code",
   "execution_count": 36,
   "metadata": {},
   "outputs": [],
   "source": []
  },
  {
   "cell_type": "code",
   "execution_count": 11,
   "metadata": {},
   "outputs": [],
   "source": [
    "template = \"\"\"\n",
    "You are a doctor who help everyone by answering their questions related to their ailment, and improve your answers from previous answers in History.\n",
    "Don't try to make up an answer, if you don't know, just say that you don't know.\n",
    "Answer in a way how doctor answers to their patient. \n",
    "Do not say  \" based on the information provided in the passage\", Based on the information you provided, ...\" or \"I think the answer is...\". Just answer the question directly in detail.\n",
    "\n",
    "History: {chat_history}\n",
    "\n",
    "Context: {context}\n",
    "\n",
    "Question: {query}\n",
    "Answer: \n",
    "\"\"\""
   ]
  },
  {
   "cell_type": "code",
   "execution_count": null,
   "metadata": {},
   "outputs": [],
   "source": []
  },
  {
   "cell_type": "code",
   "execution_count": 12,
   "metadata": {},
   "outputs": [],
   "source": [
    "from langchain.chains.question_answering import load_qa_chain\n",
    "from langchain.prompts import PromptTemplate\n",
    "\n",
    "prompt = PromptTemplate(input_variables=[\"chat_history\", \"query\", \"context\"], template=template)\n",
    "memory = ConversationBufferMemory(memory_key=\"chat_history\", input_key=\"query\")\n",
    "\n",
    "chain = load_qa_chain(llm, chain_type=\"stuff\", memory=memory, prompt=prompt)"
   ]
  },
  {
   "cell_type": "code",
   "execution_count": 13,
   "metadata": {},
   "outputs": [],
   "source": [
    "query=\"Can you suggest some exercise for relieveing chest pain\""
   ]
  },
  {
   "cell_type": "code",
   "execution_count": null,
   "metadata": {},
   "outputs": [],
   "source": []
  },
  {
   "cell_type": "code",
   "execution_count": 14,
   "metadata": {},
   "outputs": [
    {
     "data": {
      "text/plain": [
       "''"
      ]
     },
     "execution_count": 14,
     "metadata": {},
     "output_type": "execute_result"
    }
   ],
   "source": [
    "chat_history=memory.load_memory_variables({})['chat_history']\n",
    "\n",
    "chat_history"
   ]
  },
  {
   "cell_type": "code",
   "execution_count": 15,
   "metadata": {},
   "outputs": [
    {
     "data": {
      "text/plain": [
       "[]"
      ]
     },
     "execution_count": 15,
     "metadata": {},
     "output_type": "execute_result"
    }
   ],
   "source": [
    "chats=chat_history.split('Human:')[1:]\n",
    "human_chats=[]\n",
    "AI_chats=[]\n",
    "for chat in chats:\n",
    "    a=chat.split('AI:')\n",
    "    human_chats.append(a[0])\n",
    "    AI_chats.append(a[1])\n",
    "\n",
    "human_chats"
   ]
  },
  {
   "cell_type": "code",
   "execution_count": 16,
   "metadata": {},
   "outputs": [
    {
     "data": {
      "text/plain": [
       "''"
      ]
     },
     "execution_count": 16,
     "metadata": {},
     "output_type": "execute_result"
    }
   ],
   "source": [
    "temp_chat=chat_history.replace(\"Human:\",\"\")\n",
    "temp_chat=temp_chat.replace(\"AI:\",\"\")\n",
    "temp_chat"
   ]
  },
  {
   "cell_type": "code",
   "execution_count": 17,
   "metadata": {},
   "outputs": [
    {
     "data": {
      "text/plain": [
       "'Document: Treatment\\nTreatment should involve efforts to resolve any\\nunderlying disorder. Infections will require antibiotics ,\\nobstruction may require the removal of a foreign object ortumor. Medications are available to help thin the sputum,so that it can be more effectively coughed up. Rhythmicclapping on the chest and back, while the patient assumesa number of positions (head down, primarily), may helpthe lungs to drain more effectively. This is called chest\\nphysical therapy , or percussion and postural drainage.\\nWhen a particular area of the lung is constantly and \\n \\nDocument: rest or choose exercises that put less stress on their feet, at\\nleast until the misalignment is corrected. In some cases,physicians also use steroid injections with local anestheticaround the bunion to reduce inflammation.\\nSurgery\\nIf conservative treatment is not successful, surgical \\n \\nDocument: build strength and health, and also advises massage thera-py and self-massage as ways of increasing circulation andreducing stress . Yogic breathing techniques and medita-\\ntion are also part of a healthy Ayurvedic regimen, toreduce stress and improve mental energy.\\nOf all treatments, though, diet is one of the most \\n \\n'"
      ]
     },
     "execution_count": 17,
     "metadata": {},
     "output_type": "execute_result"
    }
   ],
   "source": [
    "\n",
    "search=temp_chat + \" \\n\" + query\n",
    "db = Pinecone.from_existing_index(\"medical-data\", embedding_model)\n",
    "ans=db.similarity_search(search,k=3)\n",
    "context=\"\"\n",
    "for i in ans:\n",
    "    context+=f\"Document: {i.page_content} \\n \\n\"\n",
    "context"
   ]
  },
  {
   "cell_type": "code",
   "execution_count": 18,
   "metadata": {},
   "outputs": [
    {
     "name": "stderr",
     "output_type": "stream",
     "text": [
      "c:\\Users\\shahn\\anaconda3\\envs\\major_project\\lib\\site-packages\\langchain_core\\_api\\deprecation.py:117: LangChainDeprecationWarning: The function `__call__` was deprecated in LangChain 0.1.0 and will be removed in 0.2.0. Use invoke instead.\n",
      "  warn_deprecated(\n"
     ]
    }
   ],
   "source": [
    "\n",
    "\n",
    "response = chain({\"input_documents\": ans,\"query\":query,\"context\": context,'chat_history':chat_history})\n",
    "\n",
    "print(\"Model's Response:\", response)"
   ]
  },
  {
   "cell_type": "code",
   "execution_count": 72,
   "metadata": {},
   "outputs": [
    {
     "name": "stdout",
     "output_type": "stream",
     "text": [
      "Thank you for sharing your concerns with me. Based on the information provided, it's difficult to pinpoint the exact cause of your symptoms without further evaluation and diagnostic testing. However, I can provide some potential explanations and recommendations based on your symptoms.\n",
      "Firstly, chest pain or discomfort can be caused by various factors, including cardiac arrhythmias, coronary artery disease, pulmonary conditions, and musculoskeletal issues. Since you have experienced pain in the left side of your chest, it's possible that it could be related to a cardiac issue such as atrial fibrillation or angina.\n",
      "Angina is a common condition characterized by chest discomfort or pain that occurs when the heart muscle does not receive enough oxygen-rich blood. This can happen due to blockages in the coronary arteries, which supply blood to the heart. The pain can radiate to other areas such as the arm, neck, jaw, or back. Based on your symptoms of mild chest pain and sensation in the upper back, it's possible that you may be experiencing angina.\n",
      "On the other hand, atrial fibrillation is a type of arrhythmia (abnormal heart rhythm) that can cause fast, irregular heartbeats. It can be caused by various factors, including high blood pressure, heart disease, and caffeine or alcohol consumption. Atrial fibrillation can also increase the risk of stroke and other cardiac complications.\n",
      "Given your history of mild hypertension (high blood pressure) and low Vitamin B12 levels, it's possible that these factors could contribute to your symptoms. However, without further evaluation and diagnostic testing, it's difficult to determine the exact cause of your symptoms with certainty.\n",
      "Based on your location and current situation, I recommend consulting with a local healthcare professional or cardiologist for further evaluation and diagnosis. They can perform additional tests such as an electrocardiogram (ECG), echocardiogram, or stress test to determine the underlying cause of your symptoms.\n",
      "In the meantime, you can try to reduce your stress levels by engaging in relaxation techniques such as deep breathing exercises, meditation, or yoga. You can also try over-the-counter\n"
     ]
    }
   ],
   "source": [
    "print(response['output_text'])"
   ]
  },
  {
   "cell_type": "code",
   "execution_count": 1,
   "metadata": {},
   "outputs": [],
   "source": []
  },
  {
   "cell_type": "code",
   "execution_count": 28,
   "metadata": {},
   "outputs": [
    {
     "name": "stdout",
     "output_type": "stream",
     "text": [
      "{'input_documents': [Document(page_content='begin to fall. A person with diabetes mellitus either does\\nnot make enough insulin, or makes insulin that does notwork properly. The result is blood sugar that remainshigh, a condition called hyperglycemia.\\nDiabetes must be diagnosed as early as possible. If\\nleft untreated, it can damage or cause failure of the eyes,kidneys, nerves, heart, blood vessels, and other bodyorgans. Hypoglycemia , or low blood sugar, may also be\\ndiscovered through blood sugar testing. Hypoglycemia iscaused by various hormone disorders and liver disease,as well as by too much insulin.\\nDescription\\nThere are a variety of ways to measure a person’s\\nblood sugar.\\nWhole blood glucose test\\nWhole blood glucose testing can be performed by a'), Document(page_content='Nancy Ross-Flanigan\\nAntidiabetic drugs\\nDefinition\\nAntidiabetic drugs are medicines that help control\\nblood sugar levels in people with diabetes mellitus\\n(sugar diabetes).\\nPurpose\\nDiabetes may be divided into type I and type II, for-\\nmerly termed juvenile onset or insulin-dependent, and\\nGALE ENCYCLOPEDIA OF MEDICINE 2 261Antidiabetic drugsGEM - 0001 to 0432 - A  10/22/03 1:42 PM  Page 261'), Document(page_content='National Diabetes Information Clearinghouse. 1 Information\\nWay, Bethesda, MD 20892-3560. (301)654-3327. ndic@info.niddk.nih.gov.\\nOTHER\\nNational Institute of Diabetes and Digestive and Kidney Dis-\\neases. <http://www.niddk.nih.gov>.\\nSamuel Uretsky, PharmD\\nAntidiarrheal drugs\\nDefinition\\nAntidiarrheal drugs are medicines that relieve diarrhea .KEY TERMS\\nBlood sugar —The concentration of glucose in the\\nblood.\\nGlucose —A simple sugar that serves as the body’s\\nmain source of energy.\\nHormone —A substance that is produced in one\\npart of the body, then travels through the blood-stream to another part of the body where it has itseffect.\\nMetabolism —All the physical and chemical')], 'query': 'Define diabetes', 'context': 'Document: begin to fall. A person with diabetes mellitus either does\\nnot make enough insulin, or makes insulin that does notwork properly. The result is blood sugar that remainshigh, a condition called hyperglycemia.\\nDiabetes must be diagnosed as early as possible. If\\nleft untreated, it can damage or cause failure of the eyes,kidneys, nerves, heart, blood vessels, and other bodyorgans. Hypoglycemia , or low blood sugar, may also be\\ndiscovered through blood sugar testing. Hypoglycemia iscaused by various hormone disorders and liver disease,as well as by too much insulin.\\nDescription\\nThere are a variety of ways to measure a person’s\\nblood sugar.\\nWhole blood glucose test\\nWhole blood glucose testing can be performed by a \\n \\nDocument: Nancy Ross-Flanigan\\nAntidiabetic drugs\\nDefinition\\nAntidiabetic drugs are medicines that help control\\nblood sugar levels in people with diabetes mellitus\\n(sugar diabetes).\\nPurpose\\nDiabetes may be divided into type I and type II, for-\\nmerly termed juvenile onset or insulin-dependent, and\\nGALE ENCYCLOPEDIA OF MEDICINE 2 261Antidiabetic drugsGEM - 0001 to 0432 - A  10/22/03 1:42 PM  Page 261 \\n \\nDocument: National Diabetes Information Clearinghouse. 1 Information\\nWay, Bethesda, MD 20892-3560. (301)654-3327. ndic@info.niddk.nih.gov.\\nOTHER\\nNational Institute of Diabetes and Digestive and Kidney Dis-\\neases. <http://www.niddk.nih.gov>.\\nSamuel Uretsky, PharmD\\nAntidiarrheal drugs\\nDefinition\\nAntidiarrheal drugs are medicines that relieve diarrhea .KEY TERMS\\nBlood sugar —The concentration of glucose in the\\nblood.\\nGlucose —A simple sugar that serves as the body’s\\nmain source of energy.\\nHormone —A substance that is produced in one\\npart of the body, then travels through the blood-stream to another part of the body where it has itseffect.\\nMetabolism —All the physical and chemical \\n \\n', 'chat_history': '', 'output_text': 'Diabetes is a group of metabolic disorders characterizedby high blood sugar levels (hyperglycemia), asa result of either insufficient insulin production orinsulin resistance. Insulin is a hormone produced by thepancreas that regulates blood sugar levels. Diabetes mellitus,the most common form of diabetes, can lead to seriouscomplications if left untreated, including heart disease,kidney failure, nerve damage, and blindness. There arethree main types of diabetes: type 1, in which the body doesnot produce enough insulin; type 2, in which the body does notuse insulin effectively; and gestational diabetes, whichoccurs during pregnancy. Symptoms of diabetes include excessurination, thirst, blurred vision, fatigue, and slow healingof cuts and wounds. Diabetes can be diagnosed through bloodtest that measure glucose levels, and it is typically treatedwith a combination of dietary changes and medications orinsulin therapy.\\n'}\n"
     ]
    }
   ],
   "source": [
    "print(response)"
   ]
  },
  {
   "cell_type": "code",
   "execution_count": null,
   "metadata": {},
   "outputs": [],
   "source": []
  }
 ],
 "metadata": {
  "kernelspec": {
   "display_name": "major_project",
   "language": "python",
   "name": "python3"
  },
  "language_info": {
   "codemirror_mode": {
    "name": "ipython",
    "version": 3
   },
   "file_extension": ".py",
   "mimetype": "text/x-python",
   "name": "python",
   "nbconvert_exporter": "python",
   "pygments_lexer": "ipython3",
   "version": "3.9.13"
  }
 },
 "nbformat": 4,
 "nbformat_minor": 2
}
